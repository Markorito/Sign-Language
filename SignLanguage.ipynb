{
 "cells": [
  {
   "cell_type": "code",
   "execution_count": 1,
   "id": "97323bc5",
   "metadata": {},
   "outputs": [],
   "source": [
    "import pandas as pd\n",
    "import os"
   ]
  },
  {
   "cell_type": "markdown",
   "id": "a09b99a9",
   "metadata": {},
   "source": [
    "# LOADING IN THE DATA"
   ]
  },
  {
   "cell_type": "code",
   "execution_count": 2,
   "id": "397766c7",
   "metadata": {},
   "outputs": [
    {
     "name": "stdout",
     "output_type": "stream",
     "text": [
      "  folder labels\n",
      "0      A      A\n",
      "1      B      B\n",
      "2      C      C\n",
      "3      D      D\n",
      "4    del    del\n",
      "5      E      E\n",
      "6      F      F\n"
     ]
    }
   ],
   "source": [
    "#Name of the folders\n",
    "folders = ['A','B','C','D','del','E','F','G','H','I','J','K','L','M','N','nothing','O', 'P','Q','R','S','space','T','U','V','W','X','Y','Z'] \n",
    "\n",
    "#The labels the folders should have\n",
    "labels = ['A','B','C','D','del','E','F','G','H','I','J','K','L','M','N','nothing','O', 'P','Q','R','S','space','T','U','V','W','X','Y','Z']\n",
    "\n",
    "Fseries=pd.Series(folders, name='folder')\n",
    "Lseries=pd.Series(labels, name='labels')\n",
    "\n",
    "#Making the \n",
    "df=pd.concat([Fseries, Lseries], axis=1) \n",
    "print (df.head(10))"
   ]
  },
  {
   "cell_type": "code",
   "execution_count": 6,
   "id": "16c20ea6",
   "metadata": {},
   "outputs": [
    {
     "name": "stdout",
     "output_type": "stream",
     "text": [
      "                                           filepaths labels\n",
      "0  dataset\\asl_alphabet_train\\asl_alphabet_train\\...      A\n",
      "1  dataset\\asl_alphabet_train\\asl_alphabet_train\\...      A\n",
      "2  dataset\\asl_alphabet_train\\asl_alphabet_train\\...      A\n",
      "3  dataset\\asl_alphabet_train\\asl_alphabet_train\\...      A\n",
      "4  dataset\\asl_alphabet_train\\asl_alphabet_train\\...      A\n",
      "5  dataset\\asl_alphabet_train\\asl_alphabet_train\\...      A\n",
      "6  dataset\\asl_alphabet_train\\asl_alphabet_train\\...      A\n",
      "7  dataset\\asl_alphabet_train\\asl_alphabet_train\\...      A\n",
      "8  dataset\\asl_alphabet_train\\asl_alphabet_train\\...      A\n",
      "9  dataset\\asl_alphabet_train\\asl_alphabet_train\\...      A\n",
      "                                               filepaths labels\n",
      "86990  dataset\\asl_alphabet_train\\asl_alphabet_train\\...      Z\n",
      "86991  dataset\\asl_alphabet_train\\asl_alphabet_train\\...      Z\n",
      "86992  dataset\\asl_alphabet_train\\asl_alphabet_train\\...      Z\n",
      "86993  dataset\\asl_alphabet_train\\asl_alphabet_train\\...      Z\n",
      "86994  dataset\\asl_alphabet_train\\asl_alphabet_train\\...      Z\n",
      "86995  dataset\\asl_alphabet_train\\asl_alphabet_train\\...      Z\n",
      "86996  dataset\\asl_alphabet_train\\asl_alphabet_train\\...      Z\n",
      "86997  dataset\\asl_alphabet_train\\asl_alphabet_train\\...      Z\n",
      "86998  dataset\\asl_alphabet_train\\asl_alphabet_train\\...      Z\n",
      "86999  dataset\\asl_alphabet_train\\asl_alphabet_train\\...      Z\n"
     ]
    }
   ],
   "source": [
    "#Main directory where all the images are:\n",
    "sdir= r\"dataset\\asl_alphabet_train\\asl_alphabet_train\"\n",
    "filepaths=[]\n",
    "labels=[]\n",
    "\n",
    "#List of class sub directories\n",
    "class_list=os.listdir(sdir)\n",
    "\n",
    "for klass in class_list: # iterate over the class subdirectories\n",
    "    class_path=os.path.join(sdir,klass)   # path to class sub directory \n",
    "    for i in range(len(df)):  # iterate through the data set      \n",
    "        if str(df['folder'].iloc[i] )== klass:  #convert folder name to a string and compare to current klass          \n",
    "            label=df['labels'].iloc[i] # get the associated label \n",
    "            flist=os.listdir(class_path) # get a list of all the files in the klass sub directory\n",
    "            for f in flist: # iterate through the list of files\n",
    "                fpath=os.path.join(class_path,f) # get the full path to the file\n",
    "                filepaths.append(fpath) # append the full file path\n",
    "                labels.append(str(label))    # append the label as a string \n",
    "                \n",
    "Fseries=pd.Series(filepaths, name='filepaths')\n",
    "Lseries=pd.Series(labels, name='labels')\n",
    "data_df=pd.concat([Fseries, Lseries], axis=1) # create data frame with columns filepaths, labels\n",
    "print(data_df.head(10))\n",
    "print(data_df.tail(10))"
   ]
  },
  {
   "cell_type": "code",
   "execution_count": null,
   "id": "15aabbb9",
   "metadata": {},
   "outputs": [],
   "source": []
  }
 ],
 "metadata": {
  "kernelspec": {
   "display_name": "Python 3 (ipykernel)",
   "language": "python",
   "name": "python3"
  },
  "language_info": {
   "codemirror_mode": {
    "name": "ipython",
    "version": 3
   },
   "file_extension": ".py",
   "mimetype": "text/x-python",
   "name": "python",
   "nbconvert_exporter": "python",
   "pygments_lexer": "ipython3",
   "version": "3.8.5"
  }
 },
 "nbformat": 4,
 "nbformat_minor": 5
}
